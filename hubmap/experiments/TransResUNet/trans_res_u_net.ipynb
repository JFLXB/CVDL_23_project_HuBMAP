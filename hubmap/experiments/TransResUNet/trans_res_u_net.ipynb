{
 "cells": [
  {
   "attachments": {},
   "cell_type": "markdown",
   "metadata": {},
   "source": [
    "# Experiment Pipeline"
   ]
  },
  {
   "cell_type": "code",
   "execution_count": null,
   "metadata": {},
   "outputs": [],
   "source": [
    "import os\n",
    "from pathlib import Path\n",
    "from configs import CONFIG_DIR\n",
    "from figures import FIGURES_DIR\n",
    "\n",
    "import torch\n",
    "import torch.optim as optim\n",
    "from torch.utils.data import DataLoader\n",
    "\n",
    "from hubmap.data import DATA_DIR\n",
    "from hubmap.dataset import transforms as T\n",
    "from hubmap.dataset import TrainDataset, ValDataset\n",
    "\n",
    "from hubmap.experiments.TransResUNet.utils import run\n",
    "from hubmap.experiments.TransResUNet.utils import DiceBCELoss\n",
    "from hubmap.experiments.TransResUNet.utils import visualize_detailed_results\n",
    "from hubmap.experiments.TransResUNet.utils import visualize_detailed_results_overlay\n",
    "\n",
    "from hubmap.training import LRScheduler\n",
    "from hubmap.training import EarlyStopping\n",
    "\n",
    "from hubmap.visualization import visualize_result\n",
    "\n",
    "from hubmap.models.trans_res_u_net.model import TResUnet"
   ]
  },
  {
   "cell_type": "code",
   "execution_count": null,
   "metadata": {},
   "outputs": [],
   "source": [
    "import torch.nn as nn\n",
    "import torch.nn.functional as F\n",
    "\n",
    "class ChannelWeightedDiceBCELoss(nn.Module):\n",
    "    def __init__(self, weight=None, size_average=True, weights=torch.tensor([1, 1, 1, 1])):\n",
    "        super(ChannelWeightedDiceBCELoss, self).__init__()\n",
    "        self.weights = weights\n",
    "\n",
    "    def forward(self, inputs, targets, smooth=1):\n",
    "        # inputs = torch.softmax(inputs, dim=1)\n",
    "        w = self.weights.unsqueeze(0).repeat(inputs.size(0), 1)\n",
    "        w = w.to(inputs.device)        \n",
    "        inputs = torch.sigmoid(inputs)\n",
    "\n",
    "        # inputs = inputs.reshape(-1)\n",
    "        # targets = targets.reshape(-1)\n",
    "\n",
    "        intersection = (inputs * targets).sum((-2, -1))\n",
    "        dice_loss = 1 - (2.0 * intersection + smooth) / (\n",
    "            inputs.sum((-2, -1)) + targets.sum((-2, -1)) + smooth\n",
    "        )\n",
    "        dice_loss = (dice_loss * w).mean()\n",
    "        \n",
    "        BCE = F.binary_cross_entropy(inputs, targets, reduction=\"none\")\n",
    "        BCE_per_channel = BCE.mean(dim=(-2, -1))\n",
    "        BCE = (BCE_per_channel * w).mean()\n",
    "        Dice_BCE = BCE + dice_loss\n",
    "\n",
    "        return Dice_BCE\n"
   ]
  },
  {
   "cell_type": "code",
   "execution_count": null,
   "metadata": {},
   "outputs": [],
   "source": [
    "NUM_EPOCHS = 50\n",
    "BATCH_SIZE = 16\n",
    "CHECKPOINT = \"DELETE_ME_pretrained_resnet50_trial_5_weighted_bce_dice\"\n",
    "CONTINUE_TRAINING = False\n",
    "PATIENCE = 20\n",
    "LR = 1e-4\n",
    "BACKBONE = \"resnet50\"\n",
    "PRETRAINED = True\n",
    "\n",
    "WEIGHT = torch.tensor([0.3, 0.3, 0.2, 0.2])"
   ]
  },
  {
   "cell_type": "code",
   "execution_count": null,
   "metadata": {},
   "outputs": [],
   "source": [
    "FIGURES_CHECKPOINT_PATH = Path(FIGURES_DIR, \"TransResUNet\", f\"{CHECKPOINT}\")\n",
    "os.makedirs(FIGURES_CHECKPOINT_PATH, exist_ok=True)"
   ]
  },
  {
   "cell_type": "code",
   "execution_count": null,
   "metadata": {},
   "outputs": [],
   "source": [
    "CHECKPOINT_FILE_NAME = f\"{CHECKPOINT}.pt\"\n",
    "CHECKPOINT_NAME = Path(\"TransResUNet\", CHECKPOINT_FILE_NAME)\n",
    "config = {\n",
    "    \"num_epochs\": NUM_EPOCHS,\n",
    "    \"batch_size\": BATCH_SIZE,\n",
    "    \"checkpoint_name\": CHECKPOINT_NAME,\n",
    "    \"patience\": PATIENCE,\n",
    "    \"lr\": LR,\n",
    "    \"backbone\": BACKBONE,\n",
    "    \"pretrained\": PRETRAINED,\n",
    "    \"figures_directory\": FIGURES_CHECKPOINT_PATH,\n",
    "    \"weight\": WEIGHT\n",
    "}\n",
    "os.makedirs(Path(CONFIG_DIR / CHECKPOINT_NAME).parent.resolve(), exist_ok=True)\n",
    "torch.save(config, Path(CONFIG_DIR / CHECKPOINT_NAME))"
   ]
  },
  {
   "cell_type": "code",
   "execution_count": null,
   "metadata": {},
   "outputs": [],
   "source": [
    "# torchvision.transforms.ColorJitter\n",
    "# \n",
    "\n",
    "train_transforms = T.Compose(\n",
    "    [\n",
    "        T.ToTensor(),\n",
    "        T.Resize((256, 256)),\n",
    "        T.RandomHorizontalFlip(),\n",
    "        T.RandomVerticalFlip(),\n",
    "        T.RandomCrop((256, 256)),\n",
    "    ]\n",
    ")\n",
    "\n",
    "val_transforms = T.Compose(\n",
    "    [\n",
    "        T.ToTensor(),\n",
    "        T.Resize((256, 256)),\n",
    "    ]\n",
    ")"
   ]
  },
  {
   "cell_type": "code",
   "execution_count": null,
   "metadata": {},
   "outputs": [],
   "source": [
    "train_set = TrainDataset(DATA_DIR, transform=train_transforms, with_background=True)\n",
    "val_set = ValDataset(DATA_DIR, transform=val_transforms, with_background=True)"
   ]
  },
  {
   "cell_type": "code",
   "execution_count": null,
   "metadata": {},
   "outputs": [],
   "source": [
    "train_loader = DataLoader(\n",
    "    train_set, batch_size=BATCH_SIZE, shuffle=False, num_workers=16\n",
    ")\n",
    "val_loader = DataLoader(val_set, batch_size=BATCH_SIZE, shuffle=False, num_workers=16)"
   ]
  },
  {
   "cell_type": "code",
   "execution_count": null,
   "metadata": {},
   "outputs": [],
   "source": [
    "device = \"cuda\" if torch.cuda.is_available() else \"cpu\""
   ]
  },
  {
   "cell_type": "code",
   "execution_count": null,
   "metadata": {},
   "outputs": [],
   "source": [
    "from torch.optim.lr_scheduler import MultiStepLR\n",
    "# Set the learning rate to 1e-3 for 10 epochs, then set to 1e-4\n",
    "# lrs = MultiStepLR(optimizer, milestones=[10], gamma=0.1)"
   ]
  },
  {
   "cell_type": "code",
   "execution_count": null,
   "metadata": {},
   "outputs": [],
   "source": [
    "model = TResUnet(num_classes=4, backbone=BACKBONE, pretrained=PRETRAINED)\n",
    "model = model.to(device)\n",
    "\n",
    "optimizer = optim.Adam(model.parameters(), lr=LR)\n",
    "criterion = ChannelWeightedDiceBCELoss(weight=WEIGHT.to(device))\n",
    "lr_scheduler = LRScheduler(optimizer, patience=5)\n",
    "# lrs = MultiStepLR(optimizer, milestones=[10], gamma=0.1)\n",
    "# lr_scheduler = lambda _: lrs.step()\n",
    "early_stopping = None\n",
    "\n",
    "result = run(\n",
    "    num_epochs=NUM_EPOCHS,\n",
    "    model=model,\n",
    "    train_loader=train_loader,\n",
    "    val_loader=val_loader,\n",
    "    optimizer=optimizer,\n",
    "    criterion=criterion,\n",
    "    device=device,\n",
    "    early_stopping=early_stopping,\n",
    "    lr_scheduler=lr_scheduler,\n",
    "    checkpoint_name=CHECKPOINT_NAME,\n",
    "    continue_training=CONTINUE_TRAINING,\n",
    ")"
   ]
  },
  {
   "cell_type": "markdown",
   "metadata": {},
   "source": [
    "<br>"
   ]
  },
  {
   "cell_type": "code",
   "execution_count": null,
   "metadata": {},
   "outputs": [],
   "source": [
    "loss_fig, benchmark_fig = visualize_result(result)"
   ]
  },
  {
   "cell_type": "code",
   "execution_count": null,
   "metadata": {},
   "outputs": [],
   "source": [
    "loss_fig.savefig(Path(FIGURES_CHECKPOINT_PATH, \"results_loss.png\"))\n",
    "benchmark_fig.savefig(Path(FIGURES_CHECKPOINT_PATH, \"results_accuracy.png\"))"
   ]
  },
  {
   "cell_type": "code",
   "execution_count": null,
   "metadata": {},
   "outputs": [],
   "source": [
    "data = iter(val_set)"
   ]
  },
  {
   "cell_type": "code",
   "execution_count": null,
   "metadata": {},
   "outputs": [],
   "source": [
    "image, target = next(data)"
   ]
  },
  {
   "cell_type": "code",
   "execution_count": null,
   "metadata": {},
   "outputs": [],
   "source": [
    "detailed = visualize_detailed_results(model, image, target, device, CHECKPOINT_NAME)"
   ]
  },
  {
   "cell_type": "code",
   "execution_count": null,
   "metadata": {},
   "outputs": [],
   "source": [
    "detailed.savefig(Path(FIGURES_CHECKPOINT_PATH, \"example_results.png\"))"
   ]
  },
  {
   "cell_type": "code",
   "execution_count": null,
   "metadata": {},
   "outputs": [],
   "source": [
    "detailed_overlay = visualize_detailed_results_overlay(\n",
    "    model, image, target, device, CHECKPOINT_NAME\n",
    ")"
   ]
  },
  {
   "cell_type": "code",
   "execution_count": null,
   "metadata": {},
   "outputs": [],
   "source": [
    "detailed_overlay.savefig(Path(FIGURES_CHECKPOINT_PATH, \"example_overlay.png\"))"
   ]
  },
  {
   "cell_type": "markdown",
   "metadata": {},
   "source": [
    "<br>"
   ]
  }
 ],
 "metadata": {
  "kernelspec": {
   "display_name": "J",
   "language": "python",
   "name": "python3"
  },
  "language_info": {
   "codemirror_mode": {
    "name": "ipython",
    "version": 3
   },
   "file_extension": ".py",
   "mimetype": "text/x-python",
   "name": "python",
   "nbconvert_exporter": "python",
   "pygments_lexer": "ipython3",
   "version": "3.11.4"
  },
  "orig_nbformat": 4,
  "vscode": {
   "interpreter": {
    "hash": "a58ea3f06b7c035f03696c8d262430e329e4f861a31188ab1909a2b4ddd27d3d"
   }
  }
 },
 "nbformat": 4,
 "nbformat_minor": 2
}
