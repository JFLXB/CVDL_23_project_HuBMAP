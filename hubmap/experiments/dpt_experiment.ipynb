{
 "cells": [
  {
   "attachments": {},
   "cell_type": "markdown",
   "metadata": {},
   "source": [
    "# Experiments for the DPT model\n"
   ]
  },
  {
   "cell_type": "code",
   "execution_count": 27,
   "metadata": {},
   "outputs": [],
   "source": [
    "import torch\n",
    "import numpy as np\n",
    "import matplotlib.pyplot as plt\n",
    "import seaborn as sns\n",
    "\n",
    "from torch.utils.data import random_split, DataLoader\n",
    "\n",
    "from hubmap.models.dpt import DPT\n",
    "from hubmap.losses.bce_dice_loss import BCEDiceLoss\n",
    "\n",
    "from hubmap.data import DATA_DIR\n",
    "from hubmap.dataset.datasets import BaseDataset, ExpertDataset, DatasetFromSubset\n",
    "from hubmap.dataset import transforms as T"
   ]
  },
  {
   "cell_type": "code",
   "execution_count": 2,
   "metadata": {},
   "outputs": [],
   "source": [
    "transforms_train = T.Compose([\n",
    "    T.ToTensor(),\n",
    "    T.Resize((512, 512)),\n",
    "    # T.RandomHorizontalFlip(),\n",
    "    # T.RandomVerticalFlip(),\n",
    "    # T.RandomGamma(), # aufpassen, die default values sind nicht gut\n",
    "    # T.RandomHueSaturationValue(), # aufpassen, die default values sind nicht gut\n",
    "    T.Normalize((0.5, 0.5, 0.5), (0.5, 0.5, 0.5)) \n",
    "])"
   ]
  },
  {
   "cell_type": "code",
   "execution_count": 3,
   "metadata": {},
   "outputs": [],
   "source": [
    "transforms_val = T.Compose([\n",
    "    T.ToTensor(),\n",
    "    T.Resize((512, 512)),\n",
    "    T.Normalize((0.5, 0.5, 0.5), (0.5, 0.5, 0.5)) \n",
    "])"
   ]
  },
  {
   "cell_type": "code",
   "execution_count": 18,
   "metadata": {},
   "outputs": [],
   "source": [
    "dataset = ExpertDataset(DATA_DIR)\n",
    "\n",
    "train_ratio = 0.8\n",
    "train_size = int(train_ratio * len(dataset))\n",
    "test_size = len(dataset) - train_size\n",
    "train_dataset_sub, test_dataset_sub = random_split(dataset, [train_size, test_size])\n",
    "\n",
    "train_dataset = DatasetFromSubset(train_dataset_sub, transform=transforms_train)\n",
    "test_dataset = DatasetFromSubset(test_dataset_sub, transform=transforms_val)"
   ]
  },
  {
   "cell_type": "code",
   "execution_count": 19,
   "metadata": {},
   "outputs": [],
   "source": [
    "batch_size = 8\n",
    "train_loader = DataLoader(train_dataset, batch_size=batch_size, shuffle=True)\n",
    "test_loader = DataLoader(test_dataset, batch_size=batch_size, shuffle=False)"
   ]
  },
  {
   "cell_type": "code",
   "execution_count": 20,
   "metadata": {},
   "outputs": [],
   "source": [
    "device = torch.device(\"cuda\" if torch.cuda.is_available() else \"cpu\")"
   ]
  },
  {
   "cell_type": "code",
   "execution_count": 21,
   "metadata": {},
   "outputs": [],
   "source": [
    "model = DPT(num_classes=3, features=128)\n",
    "model = model.to(device)"
   ]
  },
  {
   "cell_type": "code",
   "execution_count": 35,
   "metadata": {},
   "outputs": [],
   "source": [
    "criterion = BCEDiceLoss()\n",
    "optimizer = torch.optim.Adam(model.parameters(), lr=0.001)"
   ]
  },
  {
   "cell_type": "code",
   "execution_count": 36,
   "metadata": {},
   "outputs": [],
   "source": [
    "train_losses = train_accs = []\n",
    "val_losses = val_accs = []"
   ]
  },
  {
   "cell_type": "code",
   "execution_count": 37,
   "metadata": {},
   "outputs": [],
   "source": [
    "n_epochs = 10"
   ]
  },
  {
   "cell_type": "code",
   "execution_count": 38,
   "metadata": {},
   "outputs": [
    {
     "name": "stdout",
     "output_type": "stream",
     "text": [
      "Epoch 1/10 | Train: Loss = 1.244524 | Val: Loss = 1.275873\n",
      "Epoch 2/10 | Train: Loss = 1.103610 | Val: Loss = 1.257341\n",
      "Epoch 3/10 | Train: Loss = 0.997919 | Val: Loss = 1.282546\n",
      "Epoch 4/10 | Train: Loss = 0.844863 | Val: Loss = 1.038984\n",
      "Epoch 5/10 | Train: Loss = 0.796686 | Val: Loss = 0.905934\n",
      "Epoch 6/10 | Train: Loss = 0.770193 | Val: Loss = 0.988057\n",
      "Epoch 7/10 | Train: Loss = 0.747237 | Val: Loss = 1.088986\n",
      "Epoch 8/10 | Train: Loss = 0.773749 | Val: Loss = 0.842383\n",
      "Epoch 9/10 | Train: Loss = 0.734577 | Val: Loss = 0.770671\n",
      "Epoch 10/10 | Train: Loss = 0.728510 | Val: Loss = 0.908311\n"
     ]
    }
   ],
   "source": [
    "for epoch in range(n_epochs):\n",
    "    train_batch_losses = train_batch_accs = []\n",
    "    model.train()\n",
    "    for images, targets in train_loader:\n",
    "        images = images.to(device)\n",
    "        targets = targets.to(device)\n",
    "\n",
    "        optimizer.zero_grad()\n",
    "        preds = model(images)\n",
    "\n",
    "        loss = criterion(preds, targets)\n",
    "        loss.backward()\n",
    "        optimizer.step()\n",
    "        \n",
    "        # acc = calculate_segmentation_accuracy(\n",
    "        #     preds.detach(), targets.detach(), device\n",
    "        # )\n",
    "\n",
    "        train_batch_losses.append(loss.item())\n",
    "        # train_batch_accs.append(acc.item())\n",
    "\n",
    "    val_batch_losses = val_batch_accs = []\n",
    "    model.eval()\n",
    "    for images, targets in test_loader:\n",
    "        images = images.to(device)\n",
    "        \n",
    "        targets = targets.to(device)\n",
    "                \n",
    "        with torch.no_grad():\n",
    "            preds = model(images)\n",
    "            loss = criterion(preds, targets)\n",
    "            \n",
    "            # acc = calculate_segmentation_accuracy(\n",
    "            #     preds.detach(), targets.detach(), device\n",
    "            # )\n",
    "        \n",
    "        val_batch_losses.append(loss.item())\n",
    "        # val_batch_accs.append(acc.item())\n",
    "    \n",
    "    train_losses.append(np.mean(train_batch_losses))\n",
    "    # train_accs.append(np.mean(train_batch_accs))\n",
    "    val_losses.append(np.mean(val_batch_losses))\n",
    "    # val_accs.append(np.mean(val_batch_accs))\n",
    "    \n",
    "    print(\n",
    "        f\"Epoch {epoch+1}/{n_epochs} | \"\n",
    "        f\"Train: Loss = {np.mean(train_batch_losses):.6f} | \"\n",
    "        # f\"- Accuracy = {(np.mean(train_batch_accs) * 100):.2f}% | \"\n",
    "        f\"Val: Loss = {np.mean(val_batch_losses):.6f}\"  # | \"\n",
    "        # f\"- Accuracy = {(np.mean(val_batch_accs) * 100):.2f}%\"\n",
    "    )"
   ]
  },
  {
   "cell_type": "code",
   "execution_count": 39,
   "metadata": {},
   "outputs": [
    {
     "data": {
      "text/plain": [
       "Text(0.5, 0.98, 'Training And Validation Loss of DPT')"
      ]
     },
     "execution_count": 39,
     "metadata": {},
     "output_type": "execute_result"
    },
    {
     "data": {
      "image/png": "[encoded data removed]",
      "text/plain": [
       "<Figure size 1200x400 with 1 Axes>"
      ]
     },
     "metadata": {},
     "output_type": "display_data"
    }
   ],
   "source": [
    "fig, axs = plt.subplots(nrows=1, ncols=1, figsize=(12, 4))\n",
    "\n",
    "axs.grid()\n",
    "sns.lineplot(train_losses, color=\"blue\", linestyle=\"solid\", label=\"Train\")\n",
    "sns.lineplot(val_losses, color=\"red\", linestyle=\"dotted\", label=\"Val\")\n",
    "fig.suptitle(\"Training And Validation Loss of DPT\")"
   ]
  },
  {
   "cell_type": "code",
   "execution_count": null,
   "metadata": {},
   "outputs": [],
   "source": []
  }
 ],
 "metadata": {
  "kernelspec": {
   "display_name": "J",
   "language": "python",
   "name": "python3"
  },
  "language_info": {
   "codemirror_mode": {
    "name": "ipython",
    "version": 3
   },
   "file_extension": ".py",
   "mimetype": "text/x-python",
   "name": "python",
   "nbconvert_exporter": "python",
   "pygments_lexer": "ipython3",
   "version": "3.11.4"
  },
  "orig_nbformat": 4,
  "vscode": {
   "interpreter": {
    "hash": "a58ea3f06b7c035f03696c8d262430e329e4f861a31188ab1909a2b4ddd27d3d"
   }
  }
 },
 "nbformat": 4,
 "nbformat_minor": 2
}
