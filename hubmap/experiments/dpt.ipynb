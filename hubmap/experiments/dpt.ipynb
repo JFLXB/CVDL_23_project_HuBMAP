{
 "cells": [
  {
   "cell_type": "markdown",
   "id": "b50e81f4",
   "metadata": {},
   "source": [
    "# Experiments DPT & BCEDiceLoss\n",
    "\n",
    "## Vision Transformers for Dense Prediction\n",
    "\n",
    "Code: https://github.com/isl-org/DPT"
   ]
  },
  {
   "cell_type": "code",
   "execution_count": 1,
   "id": "4549bc6e",
   "metadata": {},
   "outputs": [],
   "source": [
    "%load_ext autoreload\n",
    "%autoreload 2"
   ]
  },
  {
   "cell_type": "code",
   "execution_count": 17,
   "id": "33f41a13",
   "metadata": {},
   "outputs": [],
   "source": [
    "import time\n",
    "import torch\n",
    "import matplotlib.pyplot as plt\n",
    "import numpy as np\n",
    "import torch.nn.functional as F\n",
    "import seaborn as sns\n",
    "\n",
    "from torch.utils.data import random_split, DataLoader\n",
    "\n",
    "from hubmap.models.dpt import DPT\n",
    "from hubmap.dataset import BaseDataset\n",
    "from hubmap.data import DATA_DIR\n",
    "from hubmap.losses.bce_dice_loss import BCEDiceLoss"
   ]
  },
  {
   "cell_type": "code",
   "execution_count": 18,
   "id": "5a6e6d02",
   "metadata": {},
   "outputs": [],
   "source": [
    "transformations"
   ]
  },
  {
   "cell_type": "code",
   "execution_count": 4,
   "id": "18b0f818",
   "metadata": {},
   "outputs": [],
   "source": [
    "dataset = BaseDataset(DATA_DIR, transform=transformations)"
   ]
  },
  {
   "cell_type": "code",
   "execution_count": 5,
   "id": "3600a81b",
   "metadata": {},
   "outputs": [
    {
     "ename": "TypeError",
     "evalue": "Compose.__call__() takes 2 positional arguments but 3 were given",
     "output_type": "error",
     "traceback": [
      "\u001b[0;31m---------------------------------------------------------------------------\u001b[0m",
      "\u001b[0;31mTypeError\u001b[0m                                 Traceback (most recent call last)",
      "Cell \u001b[0;32mIn[5], line 1\u001b[0m\n\u001b[0;32m----> 1\u001b[0m dataset\u001b[39m.\u001b[39;49mplot_example(\u001b[39m0\u001b[39;49m)\n",
      "File \u001b[0;32m~/Documents/lmu/HuBMAP/hubmap/dataset/datasets.py:83\u001b[0m, in \u001b[0;36mAbstractDataset.plot_example\u001b[0;34m(self, idx)\u001b[0m\n\u001b[1;32m     82\u001b[0m \u001b[39mdef\u001b[39;00m \u001b[39mplot_example\u001b[39m(\u001b[39mself\u001b[39m, idx):\n\u001b[0;32m---> 83\u001b[0m     img, mask \u001b[39m=\u001b[39m \u001b[39mself\u001b[39;49m[idx]\n\u001b[1;32m     84\u001b[0m     img \u001b[39m=\u001b[39m img\u001b[39m.\u001b[39mpermute(\u001b[39m1\u001b[39m, \u001b[39m2\u001b[39m, \u001b[39m0\u001b[39m)\u001b[39m.\u001b[39mnumpy()\n\u001b[1;32m     85\u001b[0m     mask \u001b[39m=\u001b[39m mask\u001b[39m.\u001b[39mpermute(\u001b[39m1\u001b[39m, \u001b[39m2\u001b[39m, \u001b[39m0\u001b[39m)\u001b[39m.\u001b[39mnumpy()\n",
      "File \u001b[0;32m~/Documents/lmu/HuBMAP/hubmap/dataset/datasets.py:129\u001b[0m, in \u001b[0;36mBaseDataset.__getitem__\u001b[0;34m(self, index)\u001b[0m\n\u001b[1;32m    126\u001b[0m mask \u001b[39m=\u001b[39m generate_mask(img_data)\n\u001b[1;32m    128\u001b[0m \u001b[39mif\u001b[39;00m \u001b[39mself\u001b[39m\u001b[39m.\u001b[39mtransform \u001b[39mis\u001b[39;00m \u001b[39mnot\u001b[39;00m \u001b[39mNone\u001b[39;00m:\n\u001b[0;32m--> 129\u001b[0m     image, mask \u001b[39m=\u001b[39m \u001b[39mself\u001b[39;49m\u001b[39m.\u001b[39;49mtransform(image, mask)\n\u001b[1;32m    131\u001b[0m \u001b[39mreturn\u001b[39;00m image, mask\n",
      "\u001b[0;31mTypeError\u001b[0m: Compose.__call__() takes 2 positional arguments but 3 were given"
     ]
    }
   ],
   "source": [
    "dataset.plot_example(0)"
   ]
  },
  {
   "cell_type": "code",
   "execution_count": 6,
   "id": "ad31b7d9",
   "metadata": {},
   "outputs": [],
   "source": [
    "TRAIN_SPLIT = 0.8\n",
    "train_size = int(TRAIN_SPLIT * len(dataset))\n",
    "val_size = len(dataset) - train_size"
   ]
  },
  {
   "cell_type": "code",
   "execution_count": 7,
   "id": "ef44f520",
   "metadata": {},
   "outputs": [],
   "source": [
    "td, vd = random_split(dataset, [train_size, val_size])"
   ]
  },
  {
   "cell_type": "code",
   "execution_count": 8,
   "id": "e74a5f43",
   "metadata": {},
   "outputs": [],
   "source": [
    "BATCH_SIZE = 4"
   ]
  },
  {
   "cell_type": "code",
   "execution_count": 9,
   "id": "d4ba2aa8",
   "metadata": {},
   "outputs": [],
   "source": [
    "tl = DataLoader(td, batch_size=BATCH_SIZE, shuffle=True)\n",
    "vl = DataLoader(vd, batch_size=BATCH_SIZE, shuffle=False)"
   ]
  },
  {
   "cell_type": "code",
   "execution_count": 10,
   "id": "0ae1bdb6",
   "metadata": {},
   "outputs": [
    {
     "name": "stdout",
     "output_type": "stream",
     "text": [
      "Using Device: cuda\n"
     ]
    }
   ],
   "source": [
    "device = \"cuda\" if torch.cuda.is_available() else \"cpu\"\n",
    "print(f\"Using Device: {device}\")"
   ]
  },
  {
   "cell_type": "code",
   "execution_count": 11,
   "id": "a8aa6ffe",
   "metadata": {},
   "outputs": [],
   "source": [
    "model = DPT(num_classes=1, features=128)\n",
    "model = model.to(device)"
   ]
  },
  {
   "cell_type": "code",
   "execution_count": 12,
   "id": "d53ea11e",
   "metadata": {},
   "outputs": [],
   "source": [
    "criterion = BCEDiceLoss()"
   ]
  },
  {
   "cell_type": "code",
   "execution_count": 13,
   "id": "05b3d9d3",
   "metadata": {},
   "outputs": [],
   "source": [
    "optimizer = torch.optim.Adam(model.parameters(), lr=0.00001)"
   ]
  },
  {
   "cell_type": "code",
   "execution_count": 14,
   "id": "70ae2974",
   "metadata": {},
   "outputs": [],
   "source": [
    "train_losses = train_accs = []\n",
    "val_losses = val_accs = []"
   ]
  },
  {
   "cell_type": "code",
   "execution_count": 15,
   "id": "a32076bc",
   "metadata": {},
   "outputs": [],
   "source": [
    "n_epochs = 1"
   ]
  },
  {
   "cell_type": "code",
   "execution_count": 16,
   "id": "add6daf5",
   "metadata": {},
   "outputs": [
    {
     "ename": "TypeError",
     "evalue": "Compose.__call__() takes 2 positional arguments but 3 were given",
     "output_type": "error",
     "traceback": [
      "\u001b[0;31m---------------------------------------------------------------------------\u001b[0m",
      "\u001b[0;31mTypeError\u001b[0m                                 Traceback (most recent call last)",
      "Cell \u001b[0;32mIn[16], line 6\u001b[0m\n\u001b[1;32m      4\u001b[0m train_batch_losses \u001b[39m=\u001b[39m train_batch_accs \u001b[39m=\u001b[39m []\n\u001b[1;32m      5\u001b[0m model\u001b[39m.\u001b[39mtrain()\n\u001b[0;32m----> 6\u001b[0m \u001b[39mfor\u001b[39;00m images, targets \u001b[39min\u001b[39;00m tl:\n\u001b[1;32m      7\u001b[0m     images \u001b[39m=\u001b[39m images\u001b[39m.\u001b[39mto(device)\n\u001b[1;32m      9\u001b[0m     \u001b[39m# Only select the blood vessels target mask.\u001b[39;00m\n",
      "File \u001b[0;32m~/miniconda3/envs/J/lib/python3.11/site-packages/torch/utils/data/dataloader.py:633\u001b[0m, in \u001b[0;36m_BaseDataLoaderIter.__next__\u001b[0;34m(self)\u001b[0m\n\u001b[1;32m    630\u001b[0m \u001b[39mif\u001b[39;00m \u001b[39mself\u001b[39m\u001b[39m.\u001b[39m_sampler_iter \u001b[39mis\u001b[39;00m \u001b[39mNone\u001b[39;00m:\n\u001b[1;32m    631\u001b[0m     \u001b[39m# TODO(https://github.com/pytorch/pytorch/issues/76750)\u001b[39;00m\n\u001b[1;32m    632\u001b[0m     \u001b[39mself\u001b[39m\u001b[39m.\u001b[39m_reset()  \u001b[39m# type: ignore[call-arg]\u001b[39;00m\n\u001b[0;32m--> 633\u001b[0m data \u001b[39m=\u001b[39m \u001b[39mself\u001b[39;49m\u001b[39m.\u001b[39;49m_next_data()\n\u001b[1;32m    634\u001b[0m \u001b[39mself\u001b[39m\u001b[39m.\u001b[39m_num_yielded \u001b[39m+\u001b[39m\u001b[39m=\u001b[39m \u001b[39m1\u001b[39m\n\u001b[1;32m    635\u001b[0m \u001b[39mif\u001b[39;00m \u001b[39mself\u001b[39m\u001b[39m.\u001b[39m_dataset_kind \u001b[39m==\u001b[39m _DatasetKind\u001b[39m.\u001b[39mIterable \u001b[39mand\u001b[39;00m \\\n\u001b[1;32m    636\u001b[0m         \u001b[39mself\u001b[39m\u001b[39m.\u001b[39m_IterableDataset_len_called \u001b[39mis\u001b[39;00m \u001b[39mnot\u001b[39;00m \u001b[39mNone\u001b[39;00m \u001b[39mand\u001b[39;00m \\\n\u001b[1;32m    637\u001b[0m         \u001b[39mself\u001b[39m\u001b[39m.\u001b[39m_num_yielded \u001b[39m>\u001b[39m \u001b[39mself\u001b[39m\u001b[39m.\u001b[39m_IterableDataset_len_called:\n",
      "File \u001b[0;32m~/miniconda3/envs/J/lib/python3.11/site-packages/torch/utils/data/dataloader.py:677\u001b[0m, in \u001b[0;36m_SingleProcessDataLoaderIter._next_data\u001b[0;34m(self)\u001b[0m\n\u001b[1;32m    675\u001b[0m \u001b[39mdef\u001b[39;00m \u001b[39m_next_data\u001b[39m(\u001b[39mself\u001b[39m):\n\u001b[1;32m    676\u001b[0m     index \u001b[39m=\u001b[39m \u001b[39mself\u001b[39m\u001b[39m.\u001b[39m_next_index()  \u001b[39m# may raise StopIteration\u001b[39;00m\n\u001b[0;32m--> 677\u001b[0m     data \u001b[39m=\u001b[39m \u001b[39mself\u001b[39;49m\u001b[39m.\u001b[39;49m_dataset_fetcher\u001b[39m.\u001b[39;49mfetch(index)  \u001b[39m# may raise StopIteration\u001b[39;00m\n\u001b[1;32m    678\u001b[0m     \u001b[39mif\u001b[39;00m \u001b[39mself\u001b[39m\u001b[39m.\u001b[39m_pin_memory:\n\u001b[1;32m    679\u001b[0m         data \u001b[39m=\u001b[39m _utils\u001b[39m.\u001b[39mpin_memory\u001b[39m.\u001b[39mpin_memory(data, \u001b[39mself\u001b[39m\u001b[39m.\u001b[39m_pin_memory_device)\n",
      "File \u001b[0;32m~/miniconda3/envs/J/lib/python3.11/site-packages/torch/utils/data/_utils/fetch.py:51\u001b[0m, in \u001b[0;36m_MapDatasetFetcher.fetch\u001b[0;34m(self, possibly_batched_index)\u001b[0m\n\u001b[1;32m     49\u001b[0m         data \u001b[39m=\u001b[39m \u001b[39mself\u001b[39m\u001b[39m.\u001b[39mdataset\u001b[39m.\u001b[39m__getitems__(possibly_batched_index)\n\u001b[1;32m     50\u001b[0m     \u001b[39melse\u001b[39;00m:\n\u001b[0;32m---> 51\u001b[0m         data \u001b[39m=\u001b[39m [\u001b[39mself\u001b[39;49m\u001b[39m.\u001b[39;49mdataset[idx] \u001b[39mfor\u001b[39;49;00m idx \u001b[39min\u001b[39;49;00m possibly_batched_index]\n\u001b[1;32m     52\u001b[0m \u001b[39melse\u001b[39;00m:\n\u001b[1;32m     53\u001b[0m     data \u001b[39m=\u001b[39m \u001b[39mself\u001b[39m\u001b[39m.\u001b[39mdataset[possibly_batched_index]\n",
      "File \u001b[0;32m~/miniconda3/envs/J/lib/python3.11/site-packages/torch/utils/data/_utils/fetch.py:51\u001b[0m, in \u001b[0;36m<listcomp>\u001b[0;34m(.0)\u001b[0m\n\u001b[1;32m     49\u001b[0m         data \u001b[39m=\u001b[39m \u001b[39mself\u001b[39m\u001b[39m.\u001b[39mdataset\u001b[39m.\u001b[39m__getitems__(possibly_batched_index)\n\u001b[1;32m     50\u001b[0m     \u001b[39melse\u001b[39;00m:\n\u001b[0;32m---> 51\u001b[0m         data \u001b[39m=\u001b[39m [\u001b[39mself\u001b[39;49m\u001b[39m.\u001b[39;49mdataset[idx] \u001b[39mfor\u001b[39;00m idx \u001b[39min\u001b[39;00m possibly_batched_index]\n\u001b[1;32m     52\u001b[0m \u001b[39melse\u001b[39;00m:\n\u001b[1;32m     53\u001b[0m     data \u001b[39m=\u001b[39m \u001b[39mself\u001b[39m\u001b[39m.\u001b[39mdataset[possibly_batched_index]\n",
      "File \u001b[0;32m~/miniconda3/envs/J/lib/python3.11/site-packages/torch/utils/data/dataset.py:298\u001b[0m, in \u001b[0;36mSubset.__getitem__\u001b[0;34m(self, idx)\u001b[0m\n\u001b[1;32m    296\u001b[0m \u001b[39mif\u001b[39;00m \u001b[39misinstance\u001b[39m(idx, \u001b[39mlist\u001b[39m):\n\u001b[1;32m    297\u001b[0m     \u001b[39mreturn\u001b[39;00m \u001b[39mself\u001b[39m\u001b[39m.\u001b[39mdataset[[\u001b[39mself\u001b[39m\u001b[39m.\u001b[39mindices[i] \u001b[39mfor\u001b[39;00m i \u001b[39min\u001b[39;00m idx]]\n\u001b[0;32m--> 298\u001b[0m \u001b[39mreturn\u001b[39;00m \u001b[39mself\u001b[39;49m\u001b[39m.\u001b[39;49mdataset[\u001b[39mself\u001b[39;49m\u001b[39m.\u001b[39;49mindices[idx]]\n",
      "File \u001b[0;32m~/Documents/lmu/HuBMAP/hubmap/dataset/datasets.py:129\u001b[0m, in \u001b[0;36mBaseDataset.__getitem__\u001b[0;34m(self, index)\u001b[0m\n\u001b[1;32m    126\u001b[0m mask \u001b[39m=\u001b[39m generate_mask(img_data)\n\u001b[1;32m    128\u001b[0m \u001b[39mif\u001b[39;00m \u001b[39mself\u001b[39m\u001b[39m.\u001b[39mtransform \u001b[39mis\u001b[39;00m \u001b[39mnot\u001b[39;00m \u001b[39mNone\u001b[39;00m:\n\u001b[0;32m--> 129\u001b[0m     image, mask \u001b[39m=\u001b[39m \u001b[39mself\u001b[39;49m\u001b[39m.\u001b[39;49mtransform(image, mask)\n\u001b[1;32m    131\u001b[0m \u001b[39mreturn\u001b[39;00m image, mask\n",
      "\u001b[0;31mTypeError\u001b[0m: Compose.__call__() takes 2 positional arguments but 3 were given"
     ]
    }
   ],
   "source": [
    "for epoch in range(n_epochs):\n",
    "    epoch_start_time = time.time()\n",
    "    train_start_time = time.time()\n",
    "    train_batch_losses = train_batch_accs = []\n",
    "    model.train()\n",
    "    for images, targets in tl:\n",
    "        images = images.to(device)\n",
    "        \n",
    "        # Only select the blood vessels target mask.\n",
    "        targets = targets[:, 0:1, ...]\n",
    "        targets = targets.to(device)\n",
    "\n",
    "        optimizer.zero_grad()\n",
    "        preds = model(images)\n",
    "\n",
    "        loss = criterion(preds, targets)\n",
    "        loss.backward()\n",
    "        optimizer.step()\n",
    "        \n",
    "#         acc = calculate_segmentation_accuracy(\n",
    "#             preds.detach(), targets.detach(), device\n",
    "#         )\n",
    "\n",
    "        train_batch_losses.append(loss.item())\n",
    "#         train_batch_accs.append(acc.item())\n",
    "    train_end_time = time.time()\n",
    "    \n",
    "    val_start_time = time.time()\n",
    "    val_batch_losses = val_batch_accs = []\n",
    "    model.eval()\n",
    "    for images, targets in vl:\n",
    "        images = images.to(device)\n",
    "        \n",
    "        # Only select the blood vessels target mask.\n",
    "        targets = targets[:, 0:1, ...]\n",
    "        targets = targets.to(device)\n",
    "                \n",
    "        with torch.no_grad():\n",
    "            preds = model(images)\n",
    "            loss = criterion(preds, targets)\n",
    "            \n",
    "#             acc = calculate_segmentation_accuracy(\n",
    "#                 preds.detach(), targets.detach(), device\n",
    "#             )\n",
    "        \n",
    "        val_batch_losses.append(loss.item())\n",
    "#         val_batch_accs.append(acc.item())\n",
    "    val_end_time = time.time()\n",
    "    \n",
    "    train_losses.append(np.mean(train_batch_losses))\n",
    "#     train_accs.append(np.mean(train_batch_accs))\n",
    "    val_losses.append(np.mean(val_batch_losses))\n",
    "#     val_accs.append(np.mean(val_batch_accs))\n",
    "    \n",
    "    epoch_end_time = time.time()\n",
    "    \n",
    "    train_timing = train_end_time - train_start_time\n",
    "    train_timing = time.strftime(\"%H:%M:%S\", time.gmtime(train_timing))\n",
    "\n",
    "    val_timing = val_end_time - val_start_time\n",
    "    val_timing = time.strftime(\"%H:%M:%S\", time.gmtime(val_timing))\n",
    "    \n",
    "    epoch_timing = epoch_end_time - epoch_start_time\n",
    "    epoch_timing = time.strftime(\"%H:%M:%S\", time.gmtime(epoch_timing))\n",
    "\n",
    "    print(\n",
    "        f\"Epoch ({epoch_timing}) {epoch+1}/{n_epochs} | \"\n",
    "        f\"Train ({train_timing}): Loss = {np.mean(train_batch_losses):.6f} | \"\n",
    "#         f\"- Accuracy = {(np.mean(train_batch_accs) * 100):.2f}% | \"\n",
    "        f\"Val ({val_timing}): Loss = {np.mean(val_batch_losses):.6f}\"  # | \"\n",
    "#         f\"- Accuracy = {(np.mean(val_batch_accs) * 100):.2f}%\"\n",
    "    )"
   ]
  },
  {
   "cell_type": "code",
   "execution_count": null,
   "id": "b931f5e0",
   "metadata": {},
   "outputs": [],
   "source": [
    "fig, axs = plt.subplots(nrows=1, ncols=1, figsize=(12, 4))\n",
    "\n",
    "axs.grid()\n",
    "sns.lineplot(train_losses, color=\"blue\", label=\"Train\")\n",
    "sns.lineplot(val_losses, color=\"red\", label=\"Val\")\n",
    "fig.suptitle(\"Training And Validation Loss of DPT\")"
   ]
  },
  {
   "cell_type": "code",
   "execution_count": null,
   "id": "10679084",
   "metadata": {},
   "outputs": [],
   "source": [
    "def visualize_results(f: int, t: int, data):\n",
    "    samples = []\n",
    "    for i in range(f, t):\n",
    "        wsi, target = data[i]\n",
    "        \n",
    "        model.eval()\n",
    "        with torch.no_grad():\n",
    "            pred = model(wsi.unsqueeze(0).to(device))\n",
    "            logits = pred.detach().cpu()\n",
    "            mask = F.sigmoid(logits)\n",
    "        \n",
    "        samples.append((\n",
    "                wsi.squeeze(0).permute(1, 2, 0),\n",
    "                target.permute(1, 2, 0),\n",
    "                mask.squeeze(0).permute(1, 2, 0)\n",
    "        ))\n",
    "        \n",
    "    fig_height = 2.5 * len(samples)\n",
    "    fig, axs = plt.subplots(nrows=len(samples), ncols=2, figsize=(5,  fig_height))\n",
    "    for i, (wsi, target, mask) in enumerate(samples):\n",
    "        if i == 0:\n",
    "            axs[i][0].set_title(\"Ground Truth\")\n",
    "            axs[i][1].set_title(\"Prediction\")\n",
    "\n",
    "        axs[i][0].imshow(wsi)\n",
    "        axs[i][0].imshow(target, alpha=0.3)\n",
    "\n",
    "        axs[i][1].imshow(wsi)\n",
    "        axs[i][1].imshow(mask, alpha=0.5)\n",
    "\n",
    "    plt.tight_layout()\n",
    "#     plt.suptitle(\"Overlay of Ground Truth and Prediction (Sample from Training Data)\")\n",
    "    plt.show()"
   ]
  },
  {
   "cell_type": "code",
   "execution_count": null,
   "id": "c8e9fca2",
   "metadata": {},
   "outputs": [],
   "source": [
    "visualize_results(f=20, t=23, data=td)"
   ]
  },
  {
   "cell_type": "code",
   "execution_count": null,
   "id": "d4b24739",
   "metadata": {},
   "outputs": [],
   "source": [
    "visualize_results(f=20, t=23, data=vd)"
   ]
  },
  {
   "cell_type": "code",
   "execution_count": null,
   "id": "d27e394c",
   "metadata": {},
   "outputs": [],
   "source": []
  }
 ],
 "metadata": {
  "kernelspec": {
   "display_name": "J",
   "language": "python",
   "name": "python3"
  },
  "language_info": {
   "codemirror_mode": {
    "name": "ipython",
    "version": 3
   },
   "file_extension": ".py",
   "mimetype": "text/x-python",
   "name": "python",
   "nbconvert_exporter": "python",
   "pygments_lexer": "ipython3",
   "version": "3.11.4"
  },
  "vscode": {
   "interpreter": {
    "hash": "a58ea3f06b7c035f03696c8d262430e329e4f861a31188ab1909a2b4ddd27d3d"
   }
  }
 },
 "nbformat": 4,
 "nbformat_minor": 5
}
